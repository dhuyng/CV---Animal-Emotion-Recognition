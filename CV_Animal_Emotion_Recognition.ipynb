{
  "nbformat": 4,
  "nbformat_minor": 0,
  "metadata": {
    "colab": {
      "provenance": []
    },
    "kernelspec": {
      "name": "python3",
      "display_name": "Python 3"
    },
    "language_info": {
      "name": "python"
    }
  },
  "cells": [
    {
      "cell_type": "code",
      "source": [
        "from google.colab import drive\n",
        "drive.mount('/content/drive')"
      ],
      "metadata": {
        "colab": {
          "base_uri": "https://localhost:8080/"
        },
        "id": "ZHO1lzDg8oTa",
        "outputId": "7c0b7bab-a85a-4ee8-82d7-a98c530991b5"
      },
      "execution_count": 2,
      "outputs": [
        {
          "output_type": "stream",
          "name": "stdout",
          "text": [
            "Mounted at /content/drive\n"
          ]
        }
      ]
    },
    {
      "cell_type": "markdown",
      "source": [],
      "metadata": {
        "id": "okb3Ejph8hEt"
      }
    },
    {
      "cell_type": "code",
      "execution_count": 3,
      "metadata": {
        "id": "DzKVmUp66kUn"
      },
      "outputs": [],
      "source": [
        "import os\n",
        "import matplotlib.pyplot as plt\n",
        "import seaborn as sns\n",
        "import tensorflow as tf\n",
        "\n",
        "\n",
        "from sklearn.utils.class_weight import compute_class_weight\n",
        "from sklearn.metrics import classification_report, confusion_matrix\n",
        "import numpy as np\n",
        "\n",
        "from tensorflow.keras.preprocessing.image import ImageDataGenerator\n",
        "from tensorflow.keras.models import Sequential\n",
        "from tensorflow.keras.models import load_model\n",
        "from tensorflow.keras.layers import Conv2D, MaxPooling2D, Flatten, Dense, Dropout, BatchNormalization\n",
        "\n",
        "\n",
        "\n"
      ]
    },
    {
      "cell_type": "code",
      "source": [],
      "metadata": {
        "id": "iIzZK_edczPA"
      },
      "execution_count": null,
      "outputs": []
    },
    {
      "cell_type": "markdown",
      "source": [],
      "metadata": {
        "id": "sTG8TMfNczGF"
      }
    },
    {
      "cell_type": "markdown",
      "source": [
        "# **NHẬN DIỆN LOÀI**\n"
      ],
      "metadata": {
        "id": "WNjVNTXV_G9t"
      }
    },
    {
      "cell_type": "code",
      "source": [
        "# Đường dẫn đến folder Datasets\n",
        "dataset_path = '/content/drive/MyDrive/CV - Animal Emotion Recognition/Datasets'\n",
        "\n",
        "# Chuẩn bị dữ liệu với ImageDataGenerator\n",
        "datagen = ImageDataGenerator(\n",
        "    rescale=1./255,\n",
        "    validation_split=0.2  # Chia tập dữ liệu thành tập huấn luyện và kiểm tra\n",
        ")\n",
        "\n",
        "\n",
        "\n",
        "# Tạo bộ dữ liệu huấn luyện và kiểm tra cho nhận diện loài vật\n",
        "train_species_generator = datagen.flow_from_directory(\n",
        "    dataset_path,\n",
        "    target_size=(128, 128),\n",
        "    batch_size=32,\n",
        "    class_mode='categorical',\n",
        "    subset='training'\n",
        ")\n",
        "\n",
        "val_species_generator = datagen.flow_from_directory(\n",
        "    dataset_path,\n",
        "    target_size=(128, 128),\n",
        "    batch_size=32,\n",
        "    class_mode='categorical',\n",
        "    subset='validation'\n",
        ")\n",
        "# In các lớp của train_generator\n",
        "print(\"Classes found in train_generator:\")\n",
        "print(train_species_generator.class_indices)\n",
        "\n",
        "# In các lớp của val_generator\n",
        "print(\"\\nClasses found in val_generator:\")\n",
        "print(val_species_generator.class_indices)\n"
      ],
      "metadata": {
        "colab": {
          "base_uri": "https://localhost:8080/"
        },
        "id": "1cPEVqBp_KcR",
        "outputId": "eadf59bc-23b8-4d1e-d191-d87404848075"
      },
      "execution_count": 7,
      "outputs": [
        {
          "output_type": "stream",
          "name": "stdout",
          "text": [
            "Found 3638 images belonging to 2 classes.\n",
            "Found 908 images belonging to 2 classes.\n",
            "Classes found in train_generator:\n",
            "{'Cat': 0, 'Dog': 1}\n",
            "\n",
            "Classes found in val_generator:\n",
            "{'Cat': 0, 'Dog': 1}\n"
          ]
        }
      ]
    },
    {
      "cell_type": "code",
      "source": [
        "# Xây dựng mô hình CNN cho nhận diện loài vật\n",
        "model_species = Sequential([\n",
        "    Conv2D(32, (3, 3), activation='relu', input_shape=(128, 128, 3)),\n",
        "    MaxPooling2D(pool_size=(2, 2)),\n",
        "    Conv2D(64, (3, 3), activation='relu'),\n",
        "    MaxPooling2D(pool_size=(2, 2)),\n",
        "    Conv2D(128, (3, 3), activation='relu'),\n",
        "    MaxPooling2D(pool_size=(2, 2)),\n",
        "    Flatten(),\n",
        "    Dense(128, activation='relu'),\n",
        "    Dropout(0.5),\n",
        "    Dense(train_species_generator.num_classes, activation='softmax')  # Số lớp theo số lượng loài\n",
        "])\n",
        "\n",
        "# Biên dịch mô hình\n",
        "model_species.compile(optimizer='adam', loss='categorical_crossentropy', metrics=['accuracy'])\n",
        "\n",
        "# Huấn luyện mô hình\n",
        "model_species.fit(\n",
        "    train_species_generator,\n",
        "    epochs=20,\n",
        "    validation_data=val_species_generator\n",
        ")\n",
        "\n",
        "# Lưu mô hình đã huấn luyện\n",
        "model_species.save('/content/drive/MyDrive/CV - Animal Emotion Recognition/species_model.h5')\n"
      ],
      "metadata": {
        "colab": {
          "base_uri": "https://localhost:8080/"
        },
        "id": "fVCNDdzUAZaH",
        "outputId": "ee19a960-774a-43b6-cd06-92b0db772fd3"
      },
      "execution_count": null,
      "outputs": [
        {
          "output_type": "stream",
          "name": "stdout",
          "text": [
            "Epoch 1/20\n",
            "\u001b[1m114/114\u001b[0m \u001b[32m━━━━━━━━━━━━━━━━━━━━\u001b[0m\u001b[37m\u001b[0m \u001b[1m561s\u001b[0m 5s/step - accuracy: 0.8678 - loss: 0.5077 - val_accuracy: 0.8899 - val_loss: 0.3608\n",
            "Epoch 2/20\n",
            "\u001b[1m114/114\u001b[0m \u001b[32m━━━━━━━━━━━━━━━━━━━━\u001b[0m\u001b[37m\u001b[0m \u001b[1m143s\u001b[0m 1s/step - accuracy: 0.8871 - loss: 0.3406 - val_accuracy: 0.8899 - val_loss: 0.3182\n",
            "Epoch 3/20\n",
            "\u001b[1m114/114\u001b[0m \u001b[32m━━━━━━━━━━━━━━━━━━━━\u001b[0m\u001b[37m\u001b[0m \u001b[1m153s\u001b[0m 1s/step - accuracy: 0.8838 - loss: 0.3091 - val_accuracy: 0.8899 - val_loss: 0.3141\n",
            "Epoch 4/20\n",
            "\u001b[1m114/114\u001b[0m \u001b[32m━━━━━━━━━━━━━━━━━━━━\u001b[0m\u001b[37m\u001b[0m \u001b[1m139s\u001b[0m 1s/step - accuracy: 0.8917 - loss: 0.2789 - val_accuracy: 0.8899 - val_loss: 0.2870\n",
            "Epoch 5/20\n",
            "\u001b[1m114/114\u001b[0m \u001b[32m━━━━━━━━━━━━━━━━━━━━\u001b[0m\u001b[37m\u001b[0m \u001b[1m141s\u001b[0m 1s/step - accuracy: 0.8834 - loss: 0.2740 - val_accuracy: 0.8899 - val_loss: 0.2809\n",
            "Epoch 6/20\n",
            "\u001b[1m114/114\u001b[0m \u001b[32m━━━━━━━━━━━━━━━━━━━━\u001b[0m\u001b[37m\u001b[0m \u001b[1m139s\u001b[0m 1s/step - accuracy: 0.8887 - loss: 0.2431 - val_accuracy: 0.8899 - val_loss: 0.2754\n",
            "Epoch 7/20\n",
            "\u001b[1m114/114\u001b[0m \u001b[32m━━━━━━━━━━━━━━━━━━━━\u001b[0m\u001b[37m\u001b[0m \u001b[1m143s\u001b[0m 1s/step - accuracy: 0.8904 - loss: 0.2288 - val_accuracy: 0.9042 - val_loss: 0.2780\n",
            "Epoch 8/20\n",
            "\u001b[1m114/114\u001b[0m \u001b[32m━━━━━━━━━━━━━━━━━━━━\u001b[0m\u001b[37m\u001b[0m \u001b[1m141s\u001b[0m 1s/step - accuracy: 0.9000 - loss: 0.1950 - val_accuracy: 0.9064 - val_loss: 0.2810\n",
            "Epoch 9/20\n",
            "\u001b[1m114/114\u001b[0m \u001b[32m━━━━━━━━━━━━━━━━━━━━\u001b[0m\u001b[37m\u001b[0m \u001b[1m140s\u001b[0m 1s/step - accuracy: 0.9219 - loss: 0.1763 - val_accuracy: 0.9108 - val_loss: 0.2937\n",
            "Epoch 10/20\n",
            "\u001b[1m114/114\u001b[0m \u001b[32m━━━━━━━━━━━━━━━━━━━━\u001b[0m\u001b[37m\u001b[0m \u001b[1m140s\u001b[0m 1s/step - accuracy: 0.9363 - loss: 0.1525 - val_accuracy: 0.9207 - val_loss: 0.3136\n",
            "Epoch 11/20\n",
            "\u001b[1m114/114\u001b[0m \u001b[32m━━━━━━━━━━━━━━━━━━━━\u001b[0m\u001b[37m\u001b[0m \u001b[1m140s\u001b[0m 1s/step - accuracy: 0.9571 - loss: 0.1106 - val_accuracy: 0.9119 - val_loss: 0.3813\n",
            "Epoch 12/20\n",
            "\u001b[1m114/114\u001b[0m \u001b[32m━━━━━━━━━━━━━━━━━━━━\u001b[0m\u001b[37m\u001b[0m \u001b[1m142s\u001b[0m 1s/step - accuracy: 0.9665 - loss: 0.0848 - val_accuracy: 0.9163 - val_loss: 0.4455\n",
            "Epoch 13/20\n",
            "\u001b[1m114/114\u001b[0m \u001b[32m━━━━━━━━━━━━━━━━━━━━\u001b[0m\u001b[37m\u001b[0m \u001b[1m153s\u001b[0m 1s/step - accuracy: 0.9659 - loss: 0.0852 - val_accuracy: 0.9064 - val_loss: 0.4759\n",
            "Epoch 14/20\n",
            "\u001b[1m114/114\u001b[0m \u001b[32m━━━━━━━━━━━━━━━━━━━━\u001b[0m\u001b[37m\u001b[0m \u001b[1m141s\u001b[0m 1s/step - accuracy: 0.9774 - loss: 0.0644 - val_accuracy: 0.9141 - val_loss: 0.5538\n",
            "Epoch 15/20\n",
            "\u001b[1m114/114\u001b[0m \u001b[32m━━━━━━━━━━━━━━━━━━━━\u001b[0m\u001b[37m\u001b[0m \u001b[1m143s\u001b[0m 1s/step - accuracy: 0.9776 - loss: 0.0631 - val_accuracy: 0.9130 - val_loss: 0.6001\n",
            "Epoch 16/20\n",
            "\u001b[1m114/114\u001b[0m \u001b[32m━━━━━━━━━━━━━━━━━━━━\u001b[0m\u001b[37m\u001b[0m \u001b[1m141s\u001b[0m 1s/step - accuracy: 0.9903 - loss: 0.0458 - val_accuracy: 0.8976 - val_loss: 0.5077\n",
            "Epoch 17/20\n",
            "\u001b[1m114/114\u001b[0m \u001b[32m━━━━━━━━━━━━━━━━━━━━\u001b[0m\u001b[37m\u001b[0m \u001b[1m142s\u001b[0m 1s/step - accuracy: 0.9886 - loss: 0.0551 - val_accuracy: 0.9064 - val_loss: 0.7321\n",
            "Epoch 18/20\n",
            "\u001b[1m114/114\u001b[0m \u001b[32m━━━━━━━━━━━━━━━━━━━━\u001b[0m\u001b[37m\u001b[0m \u001b[1m146s\u001b[0m 1s/step - accuracy: 0.9967 - loss: 0.0279 - val_accuracy: 0.9086 - val_loss: 0.6063\n",
            "Epoch 19/20\n",
            "\u001b[1m114/114\u001b[0m \u001b[32m━━━━━━━━━━━━━━━━━━━━\u001b[0m\u001b[37m\u001b[0m \u001b[1m195s\u001b[0m 1s/step - accuracy: 0.9961 - loss: 0.0286 - val_accuracy: 0.9031 - val_loss: 0.5751\n",
            "Epoch 20/20\n",
            "\u001b[1m114/114\u001b[0m \u001b[32m━━━━━━━━━━━━━━━━━━━━\u001b[0m\u001b[37m\u001b[0m \u001b[1m140s\u001b[0m 1s/step - accuracy: 0.9994 - loss: 0.0218 - val_accuracy: 0.8987 - val_loss: 0.6099\n"
          ]
        },
        {
          "output_type": "stream",
          "name": "stderr",
          "text": [
            "WARNING:absl:You are saving your model as an HDF5 file via `model.save()` or `keras.saving.save_model(model)`. This file format is considered legacy. We recommend using instead the native Keras format, e.g. `model.save('my_model.keras')` or `keras.saving.save_model(model, 'my_model.keras')`. \n"
          ]
        }
      ]
    },
    {
      "cell_type": "markdown",
      "source": [
        "# **NHẬN DIỆN CẢM XÚC**"
      ],
      "metadata": {
        "id": "gI2JAXg__K8c"
      }
    },
    {
      "cell_type": "code",
      "source": [
        "# Đường dẫn đến folder Datasets chứa các hình ảnh cảm xúc của động vật\n",
        "emotion_dataset_path = '/content/drive/MyDrive/CV - Animal Emotion Recognition/Emotion Datasets'\n",
        "\n",
        "# Chuẩn bị dữ liệu với ImageDataGenerator\n",
        "emotion_datagen = ImageDataGenerator(\n",
        "    rescale=1./255,\n",
        "    validation_split=0.2  # Chia dữ liệu thành 80% huấn luyện và 20% kiểm tra\n",
        ")\n",
        "\n",
        "# Tạo bộ dữ liệu huấn luyện cho nhận diện cảm xúc\n",
        "train_emotion_generator = emotion_datagen.flow_from_directory(\n",
        "    emotion_dataset_path,\n",
        "    target_size=(128, 128),\n",
        "    batch_size=32,\n",
        "    class_mode='categorical',\n",
        "    subset='training'\n",
        ")\n",
        "\n",
        "# Tạo bộ dữ liệu kiểm tra cho nhận diện cảm xúc\n",
        "val_emotion_generator = emotion_datagen.flow_from_directory(\n",
        "    emotion_dataset_path,\n",
        "    target_size=(128, 128),\n",
        "    batch_size=32,\n",
        "    class_mode='categorical',\n",
        "    subset='validation'\n",
        ")\n",
        "\n",
        "\n",
        "\n",
        "\n",
        "\n"
      ],
      "metadata": {
        "colab": {
          "base_uri": "https://localhost:8080/"
        },
        "id": "7hART-7NO8bt",
        "outputId": "e5e18996-8e69-4ec0-f214-af54d2870e3f"
      },
      "execution_count": 9,
      "outputs": [
        {
          "output_type": "stream",
          "name": "stdout",
          "text": [
            "Found 3635 images belonging to 7 classes.\n",
            "Found 905 images belonging to 7 classes.\n"
          ]
        }
      ]
    },
    {
      "cell_type": "code",
      "source": [
        "# Xây dựng mô hình CNN cho nhận diện cảm xúc\n",
        "model_emotion = Sequential([\n",
        "    Conv2D(32, (3, 3), activation='relu', input_shape=(128, 128, 3)),\n",
        "    MaxPooling2D(pool_size=(2, 2)),\n",
        "    Conv2D(64, (3, 3), activation='relu'),\n",
        "    MaxPooling2D(pool_size=(2, 2)),\n",
        "    Conv2D(128, (3, 3), activation='relu'),\n",
        "    MaxPooling2D(pool_size=(2, 2)),\n",
        "    Flatten(),\n",
        "    Dense(128, activation='relu'),\n",
        "    Dropout(0.5),\n",
        "    Dense(train_emotion_generator.num_classes, activation='softmax')  # Số lớp theo số lượng cảm xúc\n",
        "])\n",
        "\n",
        "# Biên dịch mô hình\n",
        "model_emotion.compile(optimizer='adam', loss='categorical_crossentropy', metrics=['accuracy'])\n",
        "\n",
        "# Huấn luyện mô hình\n",
        "history = model_emotion.fit(\n",
        "    train_emotion_generator,\n",
        "    epochs=20,\n",
        "    validation_data=val_emotion_generator\n",
        ")\n",
        "\n",
        "# Lưu mô hình đã huấn luyện\n",
        "model_emotion.save('/content/drive/MyDrive/CV - Animal Emotion Recognition/emotion_model.h5')"
      ],
      "metadata": {
        "colab": {
          "base_uri": "https://localhost:8080/"
        },
        "id": "ELgEHeDtUR1w",
        "outputId": "ca8e4951-74d9-49ee-8857-c3b686cd0291"
      },
      "execution_count": null,
      "outputs": [
        {
          "metadata": {
            "tags": null
          },
          "name": "stdout",
          "output_type": "stream",
          "text": [
            "Epoch 1/20\n"
          ]
        },
        {
          "metadata": {
            "tags": null
          },
          "name": "stderr",
          "output_type": "stream",
          "text": [
            "/usr/local/lib/python3.10/dist-packages/keras/src/trainers/data_adapters/py_dataset_adapter.py:121: UserWarning: Your `PyDataset` class should call `super().__init__(**kwargs)` in its constructor. `**kwargs` can include `workers`, `use_multiprocessing`, `max_queue_size`. Do not pass these arguments to `fit()`, as they will be ignored.\n",
            "  self._warn_if_super_not_called()\n"
          ]
        },
        {
          "output_type": "stream",
          "name": "stdout",
          "text": [
            "\u001b[1m114/114\u001b[0m \u001b[32m━━━━━━━━━━━━━━━━━━━━\u001b[0m\u001b[37m\u001b[0m \u001b[1m850s\u001b[0m 7s/step - accuracy: 0.2316 - loss: 1.7321 - val_accuracy: 0.2994 - val_loss: 1.5489\n",
            "Epoch 2/20\n",
            "\u001b[1m114/114\u001b[0m \u001b[32m━━━━━━━━━━━━━━━━━━━━\u001b[0m\u001b[37m\u001b[0m \u001b[1m190s\u001b[0m 2s/step - accuracy: 0.3377 - loss: 1.5014 - val_accuracy: 0.3171 - val_loss: 1.5192\n",
            "Epoch 3/20\n",
            "\u001b[1m114/114\u001b[0m \u001b[32m━━━━━━━━━━━━━━━━━━━━\u001b[0m\u001b[37m\u001b[0m \u001b[1m163s\u001b[0m 1s/step - accuracy: 0.3598 - loss: 1.4569 - val_accuracy: 0.3348 - val_loss: 1.4940\n",
            "Epoch 4/20\n",
            "\u001b[1m114/114\u001b[0m \u001b[32m━━━━━━━━━━━━━━━━━━━━\u001b[0m\u001b[37m\u001b[0m \u001b[1m173s\u001b[0m 2s/step - accuracy: 0.4340 - loss: 1.3500 - val_accuracy: 0.3746 - val_loss: 1.4763\n",
            "Epoch 5/20\n",
            "\u001b[1m114/114\u001b[0m \u001b[32m━━━━━━━━━━━━━━━━━━━━\u001b[0m\u001b[37m\u001b[0m \u001b[1m163s\u001b[0m 1s/step - accuracy: 0.4744 - loss: 1.2917 - val_accuracy: 0.3569 - val_loss: 1.4985\n",
            "Epoch 6/20\n",
            "\u001b[1m114/114\u001b[0m \u001b[32m━━━━━━━━━━━━━━━━━━━━\u001b[0m\u001b[37m\u001b[0m \u001b[1m197s\u001b[0m 1s/step - accuracy: 0.4975 - loss: 1.1784 - val_accuracy: 0.3724 - val_loss: 1.5351\n",
            "Epoch 7/20\n",
            "\u001b[1m114/114\u001b[0m \u001b[32m━━━━━━━━━━━━━━━━━━━━\u001b[0m\u001b[37m\u001b[0m \u001b[1m200s\u001b[0m 1s/step - accuracy: 0.5544 - loss: 1.0749 - val_accuracy: 0.3680 - val_loss: 1.5811\n",
            "Epoch 8/20\n",
            "\u001b[1m114/114\u001b[0m \u001b[32m━━━━━━━━━━━━━━━━━━━━\u001b[0m\u001b[37m\u001b[0m \u001b[1m202s\u001b[0m 1s/step - accuracy: 0.6335 - loss: 0.8990 - val_accuracy: 0.3779 - val_loss: 1.6397\n",
            "Epoch 9/20\n",
            "\u001b[1m114/114\u001b[0m \u001b[32m━━━━━━━━━━━━━━━━━━━━\u001b[0m\u001b[37m\u001b[0m \u001b[1m154s\u001b[0m 1s/step - accuracy: 0.6962 - loss: 0.7687 - val_accuracy: 0.3801 - val_loss: 1.6863\n",
            "Epoch 10/20\n",
            "\u001b[1m114/114\u001b[0m \u001b[32m━━━━━━━━━━━━━━━━━━━━\u001b[0m\u001b[37m\u001b[0m \u001b[1m156s\u001b[0m 1s/step - accuracy: 0.7366 - loss: 0.6699 - val_accuracy: 0.3801 - val_loss: 1.8986\n",
            "Epoch 11/20\n",
            "\u001b[1m114/114\u001b[0m \u001b[32m━━━━━━━━━━━━━━━━━━━━\u001b[0m\u001b[37m\u001b[0m \u001b[1m159s\u001b[0m 1s/step - accuracy: 0.7828 - loss: 0.5577 - val_accuracy: 0.3746 - val_loss: 2.1506\n",
            "Epoch 12/20\n",
            "\u001b[1m114/114\u001b[0m \u001b[32m━━━━━━━━━━━━━━━━━━━━\u001b[0m\u001b[37m\u001b[0m \u001b[1m200s\u001b[0m 1s/step - accuracy: 0.8307 - loss: 0.4510 - val_accuracy: 0.3624 - val_loss: 2.4555\n",
            "Epoch 13/20\n",
            "\u001b[1m114/114\u001b[0m \u001b[32m━━━━━━━━━━━━━━━━━━━━\u001b[0m\u001b[37m\u001b[0m \u001b[1m157s\u001b[0m 1s/step - accuracy: 0.8512 - loss: 0.4096 - val_accuracy: 0.3779 - val_loss: 2.5508\n",
            "Epoch 14/20\n",
            "\u001b[1m114/114\u001b[0m \u001b[32m━━━━━━━━━━━━━━━━━━━━\u001b[0m\u001b[37m\u001b[0m \u001b[1m157s\u001b[0m 1s/step - accuracy: 0.8805 - loss: 0.3314 - val_accuracy: 0.3768 - val_loss: 2.7799\n",
            "Epoch 15/20\n",
            "\u001b[1m114/114\u001b[0m \u001b[32m━━━━━━━━━━━━━━━━━━━━\u001b[0m\u001b[37m\u001b[0m \u001b[1m153s\u001b[0m 1s/step - accuracy: 0.8994 - loss: 0.2925 - val_accuracy: 0.3702 - val_loss: 2.9166\n",
            "Epoch 16/20\n",
            "\u001b[1m114/114\u001b[0m \u001b[32m━━━━━━━━━━━━━━━━━━━━\u001b[0m\u001b[37m\u001b[0m \u001b[1m202s\u001b[0m 1s/step - accuracy: 0.8949 - loss: 0.2952 - val_accuracy: 0.3823 - val_loss: 2.8514\n",
            "Epoch 17/20\n",
            "\u001b[1m114/114\u001b[0m \u001b[32m━━━━━━━━━━━━━━━━━━━━\u001b[0m\u001b[37m\u001b[0m \u001b[1m156s\u001b[0m 1s/step - accuracy: 0.8951 - loss: 0.2649 - val_accuracy: 0.3779 - val_loss: 3.0245\n",
            "Epoch 18/20\n",
            "\u001b[1m114/114\u001b[0m \u001b[32m━━━━━━━━━━━━━━━━━━━━\u001b[0m\u001b[37m\u001b[0m \u001b[1m201s\u001b[0m 1s/step - accuracy: 0.9057 - loss: 0.2409 - val_accuracy: 0.3680 - val_loss: 3.2828\n",
            "Epoch 19/20\n",
            "\u001b[1m114/114\u001b[0m \u001b[32m━━━━━━━━━━━━━━━━━━━━\u001b[0m\u001b[37m\u001b[0m \u001b[1m199s\u001b[0m 1s/step - accuracy: 0.9197 - loss: 0.2125 - val_accuracy: 0.3812 - val_loss: 3.3438\n",
            "Epoch 20/20\n",
            "\u001b[1m114/114\u001b[0m \u001b[32m━━━━━━━━━━━━━━━━━━━━\u001b[0m\u001b[37m\u001b[0m \u001b[1m154s\u001b[0m 1s/step - accuracy: 0.9333 - loss: 0.1866 - val_accuracy: 0.3812 - val_loss: 3.8368\n"
          ]
        },
        {
          "output_type": "stream",
          "name": "stderr",
          "text": [
            "WARNING:absl:You are saving your model as an HDF5 file via `model.save()` or `keras.saving.save_model(model)`. This file format is considered legacy. We recommend using instead the native Keras format, e.g. `model.save('my_model.keras')` or `keras.saving.save_model(model, 'my_model.keras')`. \n"
          ]
        }
      ]
    },
    {
      "cell_type": "code",
      "source": [
        "# In các lớp của train_generator\n",
        "print(\"Classes found in train_generator:\")\n",
        "print(train_emotion_generator.class_indices)\n",
        "\n",
        "# In các lớp của val_generator\n",
        "print(\"\\nClasses found in val_generator:\")\n",
        "print(val_emotion_generator.class_indices)\n"
      ],
      "metadata": {
        "colab": {
          "base_uri": "https://localhost:8080/"
        },
        "id": "TbKLjDJYmlNU",
        "outputId": "a1786579-bfa5-4c8c-ede7-8875ed9ed54a"
      },
      "execution_count": null,
      "outputs": [
        {
          "output_type": "stream",
          "name": "stdout",
          "text": [
            "Classes found in train_generator:\n",
            "{'Angry': 0, 'Disgusted': 1, 'Happy': 2, 'Relaxed': 3, 'Sad': 4, 'Scared': 5, 'Surprised': 6}\n",
            "\n",
            "Classes found in val_generator:\n",
            "{'Angry': 0, 'Disgusted': 1, 'Happy': 2, 'Relaxed': 3, 'Sad': 4, 'Scared': 5, 'Surprised': 6}\n"
          ]
        }
      ]
    },
    {
      "cell_type": "code",
      "source": [
        "# Hàm để đánh giá hiệu năng mô hình\n",
        "def evaluate_model(model, data_generator, class_labels):\n",
        "    # Dự đoán trên dữ liệu kiểm tra\n",
        "    y_pred = model.predict(data_generator)\n",
        "    y_pred_classes = np.argmax(y_pred, axis=1)  # Lấy lớp có xác suất cao nhất\n",
        "    y_true = data_generator.classes  # Nhãn thực tế\n",
        "\n",
        "    # Báo cáo phân loại\n",
        "    print(\"Classification Report:\")\n",
        "    print(classification_report(y_true, y_pred_classes, target_names=class_labels))\n",
        "\n",
        "    # Tạo ma trận nhầm lẫn\n",
        "    conf_matrix = confusion_matrix(y_true, y_pred_classes)\n",
        "\n",
        "    # Vẽ ma trận nhầm lẫn\n",
        "    plt.figure(figsize=(10, 8))\n",
        "    sns.heatmap(conf_matrix, annot=True, fmt='d', cmap='Blues', xticklabels=class_labels, yticklabels=class_labels)\n",
        "    plt.xlabel('Predicted Label')\n",
        "    plt.ylabel('True Label')\n",
        "    plt.title('Confusion Matrix')\n",
        "    plt.show()\n",
        "\n",
        "model_species = load_model('/content/drive/MyDrive/CV - Animal Emotion Recognition/species_model.h5')\n",
        "model_emotion = load_model('/content/drive/MyDrive/CV - Animal Emotion Recognition/emotion_model.h5')\n",
        "\n",
        "\n",
        "\n",
        "# Đánh giá hiệu năng nhận biết loài vật\n",
        "print(\"Evaluation for Animal Species Recognition Model\")\n",
        "evaluate_model(model_species, val_species_generator, class_labels=train_species_generator.class_indices.keys())\n",
        "\n",
        "# Giả sử bạn có mô hình và generator cho nhận biết cảm xúc\n",
        "# Đánh giá hiệu năng nhận biết cảm xúc\n",
        "print(\"\\nEvaluation for Emotion Recognition Model\")\n",
        "evaluate_model(model_emotion, val_emotion_generator, class_labels=train_emotion_generator.class_indices.keys())\n"
      ],
      "metadata": {
        "colab": {
          "base_uri": "https://localhost:8080/",
          "height": 263
        },
        "id": "E_jy8zzPoJEz",
        "outputId": "3f09941f-7b52-4c47-c4ff-8be3e4a7893a"
      },
      "execution_count": 5,
      "outputs": [
        {
          "output_type": "stream",
          "name": "stderr",
          "text": [
            "WARNING:absl:Compiled the loaded model, but the compiled metrics have yet to be built. `model.compile_metrics` will be empty until you train or evaluate the model.\n",
            "WARNING:absl:Compiled the loaded model, but the compiled metrics have yet to be built. `model.compile_metrics` will be empty until you train or evaluate the model.\n"
          ]
        },
        {
          "output_type": "stream",
          "name": "stdout",
          "text": [
            "Evaluation for Animal Species Recognition Model\n"
          ]
        },
        {
          "output_type": "error",
          "ename": "NameError",
          "evalue": "name 'val_species_generator' is not defined",
          "traceback": [
            "\u001b[0;31m---------------------------------------------------------------------------\u001b[0m",
            "\u001b[0;31mNameError\u001b[0m                                 Traceback (most recent call last)",
            "\u001b[0;32m<ipython-input-5-726e906e6e98>\u001b[0m in \u001b[0;36m<cell line: 30>\u001b[0;34m()\u001b[0m\n\u001b[1;32m     28\u001b[0m \u001b[0;31m# Đánh giá hiệu năng nhận biết loài vật\u001b[0m\u001b[0;34m\u001b[0m\u001b[0;34m\u001b[0m\u001b[0m\n\u001b[1;32m     29\u001b[0m \u001b[0mprint\u001b[0m\u001b[0;34m(\u001b[0m\u001b[0;34m\"Evaluation for Animal Species Recognition Model\"\u001b[0m\u001b[0;34m)\u001b[0m\u001b[0;34m\u001b[0m\u001b[0;34m\u001b[0m\u001b[0m\n\u001b[0;32m---> 30\u001b[0;31m \u001b[0mevaluate_model\u001b[0m\u001b[0;34m(\u001b[0m\u001b[0mmodel_species\u001b[0m\u001b[0;34m,\u001b[0m \u001b[0mval_species_generator\u001b[0m\u001b[0;34m,\u001b[0m \u001b[0mclass_labels\u001b[0m\u001b[0;34m=\u001b[0m\u001b[0mtrain_species_generator\u001b[0m\u001b[0;34m.\u001b[0m\u001b[0mclass_indices\u001b[0m\u001b[0;34m.\u001b[0m\u001b[0mkeys\u001b[0m\u001b[0;34m(\u001b[0m\u001b[0;34m)\u001b[0m\u001b[0;34m)\u001b[0m\u001b[0;34m\u001b[0m\u001b[0;34m\u001b[0m\u001b[0m\n\u001b[0m\u001b[1;32m     31\u001b[0m \u001b[0;34m\u001b[0m\u001b[0m\n\u001b[1;32m     32\u001b[0m \u001b[0;31m# Giả sử bạn có mô hình và generator cho nhận biết cảm xúc\u001b[0m\u001b[0;34m\u001b[0m\u001b[0;34m\u001b[0m\u001b[0m\n",
            "\u001b[0;31mNameError\u001b[0m: name 'val_species_generator' is not defined"
          ]
        }
      ]
    },
    {
      "cell_type": "markdown",
      "source": [
        "**THỬ NGHIỆM CẢI TIẾN MÔ HÌNH**\n",
        "```\n",
        "`# This is formatted as code`\n",
        "```\n",
        "\n"
      ],
      "metadata": {
        "id": "D6Ykb5mpg88z"
      }
    },
    {
      "cell_type": "code",
      "source": [
        "# # Đường dẫn đến folder Datasets\n",
        "# dataset_path = '/content/drive/MyDrive/CV - Animal Emotion Recognition/Datasets'\n",
        "\n",
        "# # Chuẩn bị dữ liệu với ImageDataGenerator và tăng cường dữ liệu\n",
        "# datagen = ImageDataGenerator(\n",
        "#     rescale=1./255,\n",
        "#     validation_split=0.2,\n",
        "#     rotation_range=30,        # Tăng xoay ảnh để tăng sự đa dạng\n",
        "#     width_shift_range=0.3,\n",
        "#     height_shift_range=0.3,\n",
        "#     shear_range=0.3,\n",
        "#     zoom_range=0.4,           # Tăng zoom để học thêm đặc trưng\n",
        "#     horizontal_flip=True,\n",
        "#     fill_mode='nearest'\n",
        "# )\n",
        "\n",
        "# # Tạo bộ dữ liệu huấn luyện và kiểm tra\n",
        "# train_species_generator = datagen.flow_from_directory(\n",
        "#     dataset_path,\n",
        "#     target_size=(128, 128),\n",
        "#     batch_size=32,\n",
        "#     class_mode='categorical',\n",
        "#     subset='training'\n",
        "# )\n",
        "\n",
        "# val_species_generator = datagen.flow_from_directory(\n",
        "#     dataset_path,\n",
        "#     target_size=(128, 128),\n",
        "#     batch_size=32,\n",
        "#     class_mode='categorical',\n",
        "#     subset='validation'\n",
        "# )\n",
        "\n",
        "# # Tính toán trọng số lớp để cân bằng dữ liệu\n",
        "# class_weights = compute_class_weight(\n",
        "#     'balanced',\n",
        "#     classes=np.unique(train_species_generator.classes),\n",
        "#     y=train_species_generator.classes\n",
        "# )\n",
        "# class_weights_dict = dict(enumerate(class_weights))\n",
        "\n",
        "# # Xây dựng mô hình CNN cải tiến\n",
        "# model_species = Sequential([\n",
        "#     Conv2D(32, (3, 3), activation='relu', input_shape=(128, 128, 3)),\n",
        "#     BatchNormalization(),\n",
        "#     MaxPooling2D(pool_size=(2, 2)),\n",
        "\n",
        "#     Conv2D(64, (3, 3), activation='relu'),\n",
        "#     BatchNormalization(),\n",
        "#     MaxPooling2D(pool_size=(2, 2)),\n",
        "\n",
        "#     Conv2D(128, (3, 3), activation='relu'),\n",
        "#     BatchNormalization(),\n",
        "#     MaxPooling2D(pool_size=(2, 2)),\n",
        "\n",
        "#     Conv2D(256, (3, 3), activation='relu'),\n",
        "#     BatchNormalization(),\n",
        "#     MaxPooling2D(pool_size=(2, 2)),\n",
        "\n",
        "#     Conv2D(512, (3, 3), activation='relu'),  # Lớp này giúp mô hình học các đặc trưng phức tạp hơn\n",
        "#     BatchNormalization(),\n",
        "#     MaxPooling2D(pool_size=(2, 2)),\n",
        "\n",
        "#     Flatten(),\n",
        "#     Dense(512, activation='relu'),           # Lớp dense lớn để học đặc trưng mạnh\n",
        "#     Dropout(0.5),\n",
        "#     Dense(256, activation='relu'),\n",
        "#     Dropout(0.5),\n",
        "#     Dense(train_species_generator.num_classes, activation='softmax')\n",
        "# ])\n",
        "\n",
        "# # Biên dịch mô hình với learning rate giảm để cải thiện học sâu\n",
        "# model_species.compile(optimizer=tf.keras.optimizers.Adam(learning_rate=0.00005), loss='categorical_crossentropy', metrics=['accuracy'])\n",
        "\n",
        "# # Huấn luyện mô hình với trọng số lớp để cân bằng dữ liệu\n",
        "# history = model_species.fit(\n",
        "#     train_species_generator,\n",
        "#     epochs=40,  # Tăng số lượng epochs để mô hình có thể học tốt hơn\n",
        "#     validation_data=val_species_generator,\n",
        "#     class_weight=class_weights_dict  # Áp dụng trọng số lớp cân bằng\n",
        "# )\n",
        "\n",
        "# # Lưu mô hình đã huấn luyện\n",
        "# model_species.save('/content/drive/MyDrive/CV - Animal Emotion Recognition/species_model_improved.h5')\n"
      ],
      "metadata": {
        "colab": {
          "base_uri": "https://localhost:8080/"
        },
        "id": "OSYp7wy-CJ_2",
        "outputId": "e8756512-c320-44a3-f142-5006552ad91e",
        "collapsed": true
      },
      "execution_count": 16,
      "outputs": [
        {
          "metadata": {
            "tags": null
          },
          "name": "stdout",
          "output_type": "stream",
          "text": [
            "Found 3638 images belonging to 2 classes.\n",
            "Found 908 images belonging to 2 classes.\n"
          ]
        },
        {
          "metadata": {
            "tags": null
          },
          "name": "stderr",
          "output_type": "stream",
          "text": [
            "/usr/local/lib/python3.10/dist-packages/keras/src/layers/convolutional/base_conv.py:107: UserWarning: Do not pass an `input_shape`/`input_dim` argument to a layer. When using Sequential models, prefer using an `Input(shape)` object as the first layer in the model instead.\n",
            "  super().__init__(activity_regularizer=activity_regularizer, **kwargs)\n"
          ]
        },
        {
          "metadata": {
            "tags": null
          },
          "name": "stdout",
          "output_type": "stream",
          "text": [
            "Epoch 1/40\n"
          ]
        },
        {
          "metadata": {
            "tags": null
          },
          "name": "stderr",
          "output_type": "stream",
          "text": [
            "/usr/local/lib/python3.10/dist-packages/keras/src/trainers/data_adapters/py_dataset_adapter.py:121: UserWarning: Your `PyDataset` class should call `super().__init__(**kwargs)` in its constructor. `**kwargs` can include `workers`, `use_multiprocessing`, `max_queue_size`. Do not pass these arguments to `fit()`, as they will be ignored.\n",
            "  self._warn_if_super_not_called()\n"
          ]
        },
        {
          "output_type": "stream",
          "name": "stdout",
          "text": [
            "\u001b[1m114/114\u001b[0m \u001b[32m━━━━━━━━━━━━━━━━━━━━\u001b[0m\u001b[37m\u001b[0m \u001b[1m331s\u001b[0m 3s/step - accuracy: 0.6765 - loss: 1.5563 - val_accuracy: 0.1101 - val_loss: 0.8697\n",
            "Epoch 2/40\n",
            "\u001b[1m114/114\u001b[0m \u001b[32m━━━━━━━━━━━━━━━━━━━━\u001b[0m\u001b[37m\u001b[0m \u001b[1m334s\u001b[0m 2s/step - accuracy: 0.5693 - loss: 1.1240 - val_accuracy: 0.1101 - val_loss: 1.8042\n",
            "Epoch 3/40\n",
            "\u001b[1m114/114\u001b[0m \u001b[32m━━━━━━━━━━━━━━━━━━━━\u001b[0m\u001b[37m\u001b[0m \u001b[1m321s\u001b[0m 2s/step - accuracy: 0.5959 - loss: 0.9778 - val_accuracy: 0.1861 - val_loss: 1.2123\n",
            "Epoch 4/40\n",
            "\u001b[1m114/114\u001b[0m \u001b[32m━━━━━━━━━━━━━━━━━━━━\u001b[0m\u001b[37m\u001b[0m \u001b[1m343s\u001b[0m 3s/step - accuracy: 0.5933 - loss: 0.9191 - val_accuracy: 0.4482 - val_loss: 0.9011\n",
            "Epoch 5/40\n",
            "\u001b[1m114/114\u001b[0m \u001b[32m━━━━━━━━━━━━━━━━━━━━\u001b[0m\u001b[37m\u001b[0m \u001b[1m306s\u001b[0m 2s/step - accuracy: 0.6140 - loss: 0.8365 - val_accuracy: 0.4604 - val_loss: 0.8909\n",
            "Epoch 6/40\n",
            "\u001b[1m114/114\u001b[0m \u001b[32m━━━━━━━━━━━━━━━━━━━━\u001b[0m\u001b[37m\u001b[0m \u001b[1m318s\u001b[0m 2s/step - accuracy: 0.6015 - loss: 0.8059 - val_accuracy: 0.5033 - val_loss: 0.8065\n",
            "Epoch 7/40\n",
            "\u001b[1m114/114\u001b[0m \u001b[32m━━━━━━━━━━━━━━━━━━━━\u001b[0m\u001b[37m\u001b[0m \u001b[1m304s\u001b[0m 3s/step - accuracy: 0.6160 - loss: 0.8411 - val_accuracy: 0.6145 - val_loss: 0.6768\n",
            "Epoch 8/40\n",
            "\u001b[1m114/114\u001b[0m \u001b[32m━━━━━━━━━━━━━━━━━━━━\u001b[0m\u001b[37m\u001b[0m \u001b[1m295s\u001b[0m 2s/step - accuracy: 0.6363 - loss: 0.7543 - val_accuracy: 0.4537 - val_loss: 0.8841\n",
            "Epoch 9/40\n",
            "\u001b[1m114/114\u001b[0m \u001b[32m━━━━━━━━━━━━━━━━━━━━\u001b[0m\u001b[37m\u001b[0m \u001b[1m324s\u001b[0m 2s/step - accuracy: 0.6023 - loss: 0.7104 - val_accuracy: 0.5132 - val_loss: 0.7805\n",
            "Epoch 10/40\n",
            "\u001b[1m114/114\u001b[0m \u001b[32m━━━━━━━━━━━━━━━━━━━━\u001b[0m\u001b[37m\u001b[0m \u001b[1m355s\u001b[0m 3s/step - accuracy: 0.6074 - loss: 0.7779 - val_accuracy: 0.5804 - val_loss: 0.6868\n",
            "Epoch 11/40\n",
            "\u001b[1m114/114\u001b[0m \u001b[32m━━━━━━━━━━━━━━━━━━━━\u001b[0m\u001b[37m\u001b[0m \u001b[1m327s\u001b[0m 3s/step - accuracy: 0.6433 - loss: 0.6971 - val_accuracy: 0.6773 - val_loss: 0.6018\n",
            "Epoch 12/40\n",
            "\u001b[1m114/114\u001b[0m \u001b[32m━━━━━━━━━━━━━━━━━━━━\u001b[0m\u001b[37m\u001b[0m \u001b[1m299s\u001b[0m 3s/step - accuracy: 0.6313 - loss: 0.7169 - val_accuracy: 0.5837 - val_loss: 0.6756\n",
            "Epoch 13/40\n",
            "\u001b[1m114/114\u001b[0m \u001b[32m━━━━━━━━━━━━━━━━━━━━\u001b[0m\u001b[37m\u001b[0m \u001b[1m277s\u001b[0m 2s/step - accuracy: 0.6321 - loss: 0.7092 - val_accuracy: 0.7203 - val_loss: 0.5308\n",
            "Epoch 14/40\n",
            "\u001b[1m114/114\u001b[0m \u001b[32m━━━━━━━━━━━━━━━━━━━━\u001b[0m\u001b[37m\u001b[0m \u001b[1m278s\u001b[0m 2s/step - accuracy: 0.6902 - loss: 0.6117 - val_accuracy: 0.4604 - val_loss: 0.7774\n",
            "Epoch 15/40\n",
            "\u001b[1m114/114\u001b[0m \u001b[32m━━━━━━━━━━━━━━━━━━━━\u001b[0m\u001b[37m\u001b[0m \u001b[1m321s\u001b[0m 2s/step - accuracy: 0.6463 - loss: 0.6347 - val_accuracy: 0.5914 - val_loss: 0.6837\n",
            "Epoch 16/40\n",
            "\u001b[1m114/114\u001b[0m \u001b[32m━━━━━━━━━━━━━━━━━━━━\u001b[0m\u001b[37m\u001b[0m \u001b[1m323s\u001b[0m 2s/step - accuracy: 0.6881 - loss: 0.6148 - val_accuracy: 0.6707 - val_loss: 0.5935\n",
            "Epoch 17/40\n",
            "\u001b[1m114/114\u001b[0m \u001b[32m━━━━━━━━━━━━━━━━━━━━\u001b[0m\u001b[37m\u001b[0m \u001b[1m280s\u001b[0m 2s/step - accuracy: 0.6764 - loss: 0.6319 - val_accuracy: 0.5947 - val_loss: 0.6871\n",
            "Epoch 18/40\n",
            "\u001b[1m114/114\u001b[0m \u001b[32m━━━━━━━━━━━━━━━━━━━━\u001b[0m\u001b[37m\u001b[0m \u001b[1m278s\u001b[0m 2s/step - accuracy: 0.6829 - loss: 0.6249 - val_accuracy: 0.7478 - val_loss: 0.5183\n",
            "Epoch 19/40\n",
            "\u001b[1m114/114\u001b[0m \u001b[32m━━━━━━━━━━━━━━━━━━━━\u001b[0m\u001b[37m\u001b[0m \u001b[1m279s\u001b[0m 2s/step - accuracy: 0.7127 - loss: 0.5968 - val_accuracy: 0.7225 - val_loss: 0.5387\n",
            "Epoch 20/40\n",
            "\u001b[1m114/114\u001b[0m \u001b[32m━━━━━━━━━━━━━━━━━━━━\u001b[0m\u001b[37m\u001b[0m \u001b[1m321s\u001b[0m 2s/step - accuracy: 0.7018 - loss: 0.5618 - val_accuracy: 0.5683 - val_loss: 0.7450\n",
            "Epoch 21/40\n",
            "\u001b[1m114/114\u001b[0m \u001b[32m━━━━━━━━━━━━━━━━━━━━\u001b[0m\u001b[37m\u001b[0m \u001b[1m275s\u001b[0m 2s/step - accuracy: 0.6731 - loss: 0.5928 - val_accuracy: 0.6267 - val_loss: 0.6493\n",
            "Epoch 22/40\n",
            "\u001b[1m114/114\u001b[0m \u001b[32m━━━━━━━━━━━━━━━━━━━━\u001b[0m\u001b[37m\u001b[0m \u001b[1m322s\u001b[0m 2s/step - accuracy: 0.6967 - loss: 0.5918 - val_accuracy: 0.7610 - val_loss: 0.4829\n",
            "Epoch 23/40\n",
            "\u001b[1m114/114\u001b[0m \u001b[32m━━━━━━━━━━━━━━━━━━━━\u001b[0m\u001b[37m\u001b[0m \u001b[1m323s\u001b[0m 2s/step - accuracy: 0.7154 - loss: 0.5470 - val_accuracy: 0.6608 - val_loss: 0.6319\n",
            "Epoch 24/40\n",
            "\u001b[1m114/114\u001b[0m \u001b[32m━━━━━━━━━━━━━━━━━━━━\u001b[0m\u001b[37m\u001b[0m \u001b[1m325s\u001b[0m 2s/step - accuracy: 0.6992 - loss: 0.5395 - val_accuracy: 0.5132 - val_loss: 0.8588\n",
            "Epoch 25/40\n",
            "\u001b[1m114/114\u001b[0m \u001b[32m━━━━━━━━━━━━━━━━━━━━\u001b[0m\u001b[37m\u001b[0m \u001b[1m320s\u001b[0m 2s/step - accuracy: 0.7173 - loss: 0.5527 - val_accuracy: 0.6156 - val_loss: 0.6908\n",
            "Epoch 26/40\n",
            "\u001b[1m114/114\u001b[0m \u001b[32m━━━━━━━━━━━━━━━━━━━━\u001b[0m\u001b[37m\u001b[0m \u001b[1m273s\u001b[0m 2s/step - accuracy: 0.7150 - loss: 0.5596 - val_accuracy: 0.5639 - val_loss: 0.7521\n",
            "Epoch 27/40\n",
            "\u001b[1m114/114\u001b[0m \u001b[32m━━━━━━━━━━━━━━━━━━━━\u001b[0m\u001b[37m\u001b[0m \u001b[1m324s\u001b[0m 2s/step - accuracy: 0.6852 - loss: 0.5849 - val_accuracy: 0.7357 - val_loss: 0.5092\n",
            "Epoch 28/40\n",
            "\u001b[1m114/114\u001b[0m \u001b[32m━━━━━━━━━━━━━━━━━━━━\u001b[0m\u001b[37m\u001b[0m \u001b[1m273s\u001b[0m 2s/step - accuracy: 0.7307 - loss: 0.5633 - val_accuracy: 0.6002 - val_loss: 0.7424\n",
            "Epoch 29/40\n",
            "\u001b[1m114/114\u001b[0m \u001b[32m━━━━━━━━━━━━━━━━━━━━\u001b[0m\u001b[37m\u001b[0m \u001b[1m295s\u001b[0m 3s/step - accuracy: 0.7229 - loss: 0.5406 - val_accuracy: 0.7434 - val_loss: 0.5031\n",
            "Epoch 30/40\n",
            "\u001b[1m114/114\u001b[0m \u001b[32m━━━━━━━━━━━━━━━━━━━━\u001b[0m\u001b[37m\u001b[0m \u001b[1m304s\u001b[0m 2s/step - accuracy: 0.7499 - loss: 0.5329 - val_accuracy: 0.5308 - val_loss: 0.8269\n",
            "Epoch 31/40\n",
            "\u001b[1m114/114\u001b[0m \u001b[32m━━━━━━━━━━━━━━━━━━━━\u001b[0m\u001b[37m\u001b[0m \u001b[1m299s\u001b[0m 3s/step - accuracy: 0.7512 - loss: 0.5061 - val_accuracy: 0.6476 - val_loss: 0.6360\n",
            "Epoch 32/40\n",
            "\u001b[1m114/114\u001b[0m \u001b[32m━━━━━━━━━━━━━━━━━━━━\u001b[0m\u001b[37m\u001b[0m \u001b[1m322s\u001b[0m 3s/step - accuracy: 0.7468 - loss: 0.5019 - val_accuracy: 0.5859 - val_loss: 0.7773\n",
            "Epoch 33/40\n",
            "\u001b[1m114/114\u001b[0m \u001b[32m━━━━━━━━━━━━━━━━━━━━\u001b[0m\u001b[37m\u001b[0m \u001b[1m321s\u001b[0m 3s/step - accuracy: 0.7409 - loss: 0.4802 - val_accuracy: 0.7720 - val_loss: 0.4656\n",
            "Epoch 34/40\n",
            "\u001b[1m114/114\u001b[0m \u001b[32m━━━━━━━━━━━━━━━━━━━━\u001b[0m\u001b[37m\u001b[0m \u001b[1m280s\u001b[0m 2s/step - accuracy: 0.7434 - loss: 0.5034 - val_accuracy: 0.5242 - val_loss: 0.9616\n",
            "Epoch 35/40\n",
            "\u001b[1m114/114\u001b[0m \u001b[32m━━━━━━━━━━━━━━━━━━━━\u001b[0m\u001b[37m\u001b[0m \u001b[1m323s\u001b[0m 2s/step - accuracy: 0.7296 - loss: 0.5221 - val_accuracy: 0.7412 - val_loss: 0.4800\n",
            "Epoch 36/40\n",
            "\u001b[1m114/114\u001b[0m \u001b[32m━━━━━━━━━━━━━━━━━━━━\u001b[0m\u001b[37m\u001b[0m \u001b[1m280s\u001b[0m 2s/step - accuracy: 0.7696 - loss: 0.4758 - val_accuracy: 0.8535 - val_loss: 0.3642\n",
            "Epoch 37/40\n",
            "\u001b[1m114/114\u001b[0m \u001b[32m━━━━━━━━━━━━━━━━━━━━\u001b[0m\u001b[37m\u001b[0m \u001b[1m275s\u001b[0m 2s/step - accuracy: 0.7666 - loss: 0.4903 - val_accuracy: 0.5892 - val_loss: 0.7879\n",
            "Epoch 38/40\n",
            "\u001b[1m114/114\u001b[0m \u001b[32m━━━━━━━━━━━━━━━━━━━━\u001b[0m\u001b[37m\u001b[0m \u001b[1m343s\u001b[0m 3s/step - accuracy: 0.7327 - loss: 0.5168 - val_accuracy: 0.7952 - val_loss: 0.4136\n",
            "Epoch 39/40\n",
            "\u001b[1m114/114\u001b[0m \u001b[32m━━━━━━━━━━━━━━━━━━━━\u001b[0m\u001b[37m\u001b[0m \u001b[1m308s\u001b[0m 2s/step - accuracy: 0.7827 - loss: 0.4671 - val_accuracy: 0.5859 - val_loss: 0.7093\n",
            "Epoch 40/40\n",
            "\u001b[1m114/114\u001b[0m \u001b[32m━━━━━━━━━━━━━━━━━━━━\u001b[0m\u001b[37m\u001b[0m \u001b[1m280s\u001b[0m 2s/step - accuracy: 0.7566 - loss: 0.4994 - val_accuracy: 0.7919 - val_loss: 0.4158\n"
          ]
        },
        {
          "output_type": "stream",
          "name": "stderr",
          "text": [
            "WARNING:absl:You are saving your model as an HDF5 file via `model.save()` or `keras.saving.save_model(model)`. This file format is considered legacy. We recommend using instead the native Keras format, e.g. `model.save('my_model.keras')` or `keras.saving.save_model(model, 'my_model.keras')`. \n"
          ]
        }
      ]
    },
    {
      "cell_type": "code",
      "source": [
        "# model_species_improved = load_model('/content/drive/MyDrive/CV - Animal Emotion Recognition/species_model_improved.h5')\n",
        "\n",
        "# # Đánh giá hiệu năng nhận biết loài vật\n",
        "# print(\"Evaluation for Animal Species Recognition Model Improved\")\n",
        "# evaluate_model(model_species, val_species_generator, class_labels=train_species_generator.class_indices.keys())\n"
      ],
      "metadata": {
        "colab": {
          "base_uri": "https://localhost:8080/",
          "height": 944
        },
        "collapsed": true,
        "id": "KqNIqsbhbe4r",
        "outputId": "bad811b7-e362-473e-b107-d788ecd53fce"
      },
      "execution_count": 17,
      "outputs": [
        {
          "output_type": "stream",
          "name": "stderr",
          "text": [
            "WARNING:absl:Compiled the loaded model, but the compiled metrics have yet to be built. `model.compile_metrics` will be empty until you train or evaluate the model.\n"
          ]
        },
        {
          "output_type": "stream",
          "name": "stdout",
          "text": [
            "Evaluation for Animal Species Recognition Model Improved\n",
            "\u001b[1m29/29\u001b[0m \u001b[32m━━━━━━━━━━━━━━━━━━━━\u001b[0m\u001b[37m\u001b[0m \u001b[1m22s\u001b[0m 700ms/step\n",
            "Classification Report:\n",
            "              precision    recall  f1-score   support\n",
            "\n",
            "         Cat       0.10      0.22      0.14       100\n",
            "         Dog       0.89      0.77      0.82       808\n",
            "\n",
            "    accuracy                           0.71       908\n",
            "   macro avg       0.50      0.49      0.48       908\n",
            "weighted avg       0.80      0.71      0.75       908\n",
            "\n"
          ]
        },
        {
          "output_type": "display_data",
          "data": {
            "text/plain": [
              "<Figure size 1000x800 with 2 Axes>"
            ],
            "image/png": "[encoded data removed]"
          },
          "metadata": {}
        }
      ]
    },
    {
      "cell_type": "code",
      "source": [
        "# # Đường dẫn đến folder Datasets\n",
        "# dataset_path = '/content/drive/MyDrive/CV - Animal Emotion Recognition/Datasets'\n",
        "\n",
        "# # Chuẩn bị dữ liệu với ImageDataGenerator\n",
        "# datagen = ImageDataGenerator(\n",
        "#     rescale=1./255,\n",
        "#     validation_split=0.2  # Chia tập dữ liệu thành tập huấn luyện và kiểm tra\n",
        "# )\n",
        "\n",
        "# # Tạo bộ dữ liệu huấn luyện và kiểm tra cho nhận diện loài vật\n",
        "# train_species_generator = datagen.flow_from_directory(\n",
        "#     dataset_path,\n",
        "#     target_size=(128, 128),\n",
        "#     batch_size=32,\n",
        "#     class_mode='categorical',\n",
        "#     subset='training'\n",
        "# )\n",
        "\n",
        "# val_species_generator = datagen.flow_from_directory(\n",
        "#     dataset_path,\n",
        "#     target_size=(128, 128),\n",
        "#     batch_size=32,\n",
        "#     class_mode='categorical',\n",
        "#     subset='validation'\n",
        "# )\n",
        "\n",
        "# # Gán trọng số lớp thủ công cho mèo và chó\n",
        "# class_weights_dict = {\n",
        "#     0: 10,  # Trọng số cho lớp mèo\n",
        "#     1: 1   # Trọng số cho lớp chó\n",
        "# }\n",
        "\n",
        "# # Xây dựng mô hình CNN cho nhận diện loài vật\n",
        "# species_model_improved = Sequential([\n",
        "#     Conv2D(32, (3, 3), activation='relu', input_shape=(128, 128, 3)),\n",
        "#     MaxPooling2D(pool_size=(2, 2)),\n",
        "#     Conv2D(64, (3, 3), activation='relu'),\n",
        "#     MaxPooling2D(pool_size=(2, 2)),\n",
        "#     Conv2D(128, (3, 3), activation='relu'),\n",
        "#     MaxPooling2D(pool_size=(2, 2)),\n",
        "#     Flatten(),\n",
        "#     Dense(128, activation='relu'),\n",
        "#     Dropout(0.5),\n",
        "#     Dense(train_species_generator.num_classes, activation='softmax')  # Số lớp theo số lượng loài\n",
        "# ])\n",
        "\n",
        "# # Biên dịch mô hình\n",
        "# species_model_improved.compile(optimizer='adam', loss='categorical_crossentropy', metrics=['accuracy'])\n",
        "\n",
        "# # Huấn luyện mô hình với trọng số lớp thủ công\n",
        "# species_model_improved.fit(\n",
        "#     train_species_generator,\n",
        "#     epochs=20,\n",
        "#     validation_data=val_species_generator,\n",
        "#     class_weight=class_weights_dict  # Truyền trọng số lớp thủ công vào đây\n",
        "# )\n",
        "\n",
        "# # Lưu mô hình đã huấn luyện\n",
        "# species_model_improved.save('/content/drive/MyDrive/CV - Animal Emotion Recognition/species_model_improved.h5')\n"
      ],
      "metadata": {
        "colab": {
          "base_uri": "https://localhost:8080/",
          "height": 391
        },
        "collapsed": true,
        "id": "tQxqlc_kVsIU",
        "outputId": "61b6e4d5-8619-4151-9ab9-5e686a9f943d"
      },
      "execution_count": 23,
      "outputs": [
        {
          "output_type": "stream",
          "name": "stdout",
          "text": [
            "Found 3638 images belonging to 2 classes.\n",
            "Found 908 images belonging to 2 classes.\n"
          ]
        },
        {
          "output_type": "error",
          "ename": "KeyboardInterrupt",
          "evalue": "",
          "traceback": [
            "\u001b[0;31m---------------------------------------------------------------------------\u001b[0m",
            "\u001b[0;31mKeyboardInterrupt\u001b[0m                         Traceback (most recent call last)",
            "\u001b[0;32m<ipython-input-23-bacdc98389c3>\u001b[0m in \u001b[0;36m<cell line: 51>\u001b[0;34m()\u001b[0m\n\u001b[1;32m     49\u001b[0m \u001b[0;34m\u001b[0m\u001b[0m\n\u001b[1;32m     50\u001b[0m \u001b[0;31m# Huấn luyện mô hình với trọng số lớp thủ công\u001b[0m\u001b[0;34m\u001b[0m\u001b[0;34m\u001b[0m\u001b[0m\n\u001b[0;32m---> 51\u001b[0;31m species_model_improved.fit(\n\u001b[0m\u001b[1;32m     52\u001b[0m     \u001b[0mtrain_species_generator\u001b[0m\u001b[0;34m,\u001b[0m\u001b[0;34m\u001b[0m\u001b[0;34m\u001b[0m\u001b[0m\n\u001b[1;32m     53\u001b[0m     \u001b[0mepochs\u001b[0m\u001b[0;34m=\u001b[0m\u001b[0;36m20\u001b[0m\u001b[0;34m,\u001b[0m\u001b[0;34m\u001b[0m\u001b[0;34m\u001b[0m\u001b[0m\n",
            "\u001b[0;32m/usr/local/lib/python3.10/dist-packages/keras/src/utils/traceback_utils.py\u001b[0m in \u001b[0;36merror_handler\u001b[0;34m(*args, **kwargs)\u001b[0m\n\u001b[1;32m    115\u001b[0m         \u001b[0mfiltered_tb\u001b[0m \u001b[0;34m=\u001b[0m \u001b[0;32mNone\u001b[0m\u001b[0;34m\u001b[0m\u001b[0;34m\u001b[0m\u001b[0m\n\u001b[1;32m    116\u001b[0m         \u001b[0;32mtry\u001b[0m\u001b[0;34m:\u001b[0m\u001b[0;34m\u001b[0m\u001b[0;34m\u001b[0m\u001b[0m\n\u001b[0;32m--> 117\u001b[0;31m             \u001b[0;32mreturn\u001b[0m \u001b[0mfn\u001b[0m\u001b[0;34m(\u001b[0m\u001b[0;34m*\u001b[0m\u001b[0margs\u001b[0m\u001b[0;34m,\u001b[0m \u001b[0;34m**\u001b[0m\u001b[0mkwargs\u001b[0m\u001b[0;34m)\u001b[0m\u001b[0;34m\u001b[0m\u001b[0;34m\u001b[0m\u001b[0m\n\u001b[0m\u001b[1;32m    118\u001b[0m         \u001b[0;32mexcept\u001b[0m \u001b[0mException\u001b[0m \u001b[0;32mas\u001b[0m \u001b[0me\u001b[0m\u001b[0;34m:\u001b[0m\u001b[0;34m\u001b[0m\u001b[0;34m\u001b[0m\u001b[0m\n\u001b[1;32m    119\u001b[0m             \u001b[0mfiltered_tb\u001b[0m \u001b[0;34m=\u001b[0m \u001b[0m_process_traceback_frames\u001b[0m\u001b[0;34m(\u001b[0m\u001b[0me\u001b[0m\u001b[0;34m.\u001b[0m\u001b[0m__traceback__\u001b[0m\u001b[0;34m)\u001b[0m\u001b[0;34m\u001b[0m\u001b[0;34m\u001b[0m\u001b[0m\n",
            "\u001b[0;32m/usr/local/lib/python3.10/dist-packages/keras/src/backend/tensorflow/trainer.py\u001b[0m in \u001b[0;36mfit\u001b[0;34m(self, x, y, batch_size, epochs, verbose, callbacks, validation_split, validation_data, shuffle, class_weight, sample_weight, initial_epoch, steps_per_epoch, validation_steps, validation_batch_size, validation_freq)\u001b[0m\n\u001b[1;32m    280\u001b[0m \u001b[0;34m\u001b[0m\u001b[0m\n\u001b[1;32m    281\u001b[0m         \u001b[0;31m# Create an iterator that yields batches for one epoch.\u001b[0m\u001b[0;34m\u001b[0m\u001b[0;34m\u001b[0m\u001b[0m\n\u001b[0;32m--> 282\u001b[0;31m         epoch_iterator = TFEpochIterator(\n\u001b[0m\u001b[1;32m    283\u001b[0m             \u001b[0mx\u001b[0m\u001b[0;34m=\u001b[0m\u001b[0mx\u001b[0m\u001b[0;34m,\u001b[0m\u001b[0;34m\u001b[0m\u001b[0;34m\u001b[0m\u001b[0m\n\u001b[1;32m    284\u001b[0m             \u001b[0my\u001b[0m\u001b[0;34m=\u001b[0m\u001b[0my\u001b[0m\u001b[0;34m,\u001b[0m\u001b[0;34m\u001b[0m\u001b[0;34m\u001b[0m\u001b[0m\n",
            "\u001b[0;32m/usr/local/lib/python3.10/dist-packages/keras/src/backend/tensorflow/trainer.py\u001b[0m in \u001b[0;36m__init__\u001b[0;34m(self, distribute_strategy, *args, **kwargs)\u001b[0m\n\u001b[1;32m    627\u001b[0m         \u001b[0msuper\u001b[0m\u001b[0;34m(\u001b[0m\u001b[0;34m)\u001b[0m\u001b[0;34m.\u001b[0m\u001b[0m__init__\u001b[0m\u001b[0;34m(\u001b[0m\u001b[0;34m*\u001b[0m\u001b[0margs\u001b[0m\u001b[0;34m,\u001b[0m \u001b[0;34m**\u001b[0m\u001b[0mkwargs\u001b[0m\u001b[0;34m)\u001b[0m\u001b[0;34m\u001b[0m\u001b[0;34m\u001b[0m\u001b[0m\n\u001b[1;32m    628\u001b[0m         \u001b[0mself\u001b[0m\u001b[0;34m.\u001b[0m\u001b[0m_distribute_strategy\u001b[0m \u001b[0;34m=\u001b[0m \u001b[0mdistribute_strategy\u001b[0m\u001b[0;34m\u001b[0m\u001b[0;34m\u001b[0m\u001b[0m\n\u001b[0;32m--> 629\u001b[0;31m         \u001b[0mdataset\u001b[0m \u001b[0;34m=\u001b[0m \u001b[0mself\u001b[0m\u001b[0;34m.\u001b[0m\u001b[0m_get_iterator\u001b[0m\u001b[0;34m(\u001b[0m\u001b[0;34m)\u001b[0m\u001b[0;34m\u001b[0m\u001b[0;34m\u001b[0m\u001b[0m\n\u001b[0m\u001b[1;32m    630\u001b[0m         \u001b[0;32mif\u001b[0m \u001b[0;32mnot\u001b[0m \u001b[0misinstance\u001b[0m\u001b[0;34m(\u001b[0m\u001b[0mdataset\u001b[0m\u001b[0;34m,\u001b[0m \u001b[0mtf\u001b[0m\u001b[0;34m.\u001b[0m\u001b[0mdistribute\u001b[0m\u001b[0;34m.\u001b[0m\u001b[0mDistributedDataset\u001b[0m\u001b[0;34m)\u001b[0m\u001b[0;34m:\u001b[0m\u001b[0;34m\u001b[0m\u001b[0;34m\u001b[0m\u001b[0m\n\u001b[1;32m    631\u001b[0m             dataset = self._distribute_strategy.experimental_distribute_dataset(\n",
            "\u001b[0;32m/usr/local/lib/python3.10/dist-packages/keras/src/backend/tensorflow/trainer.py\u001b[0m in \u001b[0;36m_get_iterator\u001b[0;34m(self)\u001b[0m\n\u001b[1;32m    636\u001b[0m \u001b[0;34m\u001b[0m\u001b[0m\n\u001b[1;32m    637\u001b[0m     \u001b[0;32mdef\u001b[0m \u001b[0m_get_iterator\u001b[0m\u001b[0;34m(\u001b[0m\u001b[0mself\u001b[0m\u001b[0;34m)\u001b[0m\u001b[0;34m:\u001b[0m\u001b[0;34m\u001b[0m\u001b[0;34m\u001b[0m\u001b[0m\n\u001b[0;32m--> 638\u001b[0;31m         \u001b[0;32mreturn\u001b[0m \u001b[0mself\u001b[0m\u001b[0;34m.\u001b[0m\u001b[0mdata_adapter\u001b[0m\u001b[0;34m.\u001b[0m\u001b[0mget_tf_dataset\u001b[0m\u001b[0;34m(\u001b[0m\u001b[0;34m)\u001b[0m\u001b[0;34m\u001b[0m\u001b[0;34m\u001b[0m\u001b[0m\n\u001b[0m\u001b[1;32m    639\u001b[0m \u001b[0;34m\u001b[0m\u001b[0m\n\u001b[1;32m    640\u001b[0m     \u001b[0;32mdef\u001b[0m \u001b[0menumerate_epoch\u001b[0m\u001b[0;34m(\u001b[0m\u001b[0mself\u001b[0m\u001b[0;34m)\u001b[0m\u001b[0;34m:\u001b[0m\u001b[0;34m\u001b[0m\u001b[0;34m\u001b[0m\u001b[0m\n",
            "\u001b[0;32m/usr/local/lib/python3.10/dist-packages/keras/src/trainers/data_adapters/py_dataset_adapter.py\u001b[0m in \u001b[0;36mget_tf_dataset\u001b[0;34m(self)\u001b[0m\n\u001b[1;32m    282\u001b[0m             \u001b[0;32mif\u001b[0m \u001b[0mnum_batches\u001b[0m \u001b[0;32mis\u001b[0m \u001b[0;32mnot\u001b[0m \u001b[0;32mNone\u001b[0m\u001b[0;34m:\u001b[0m\u001b[0;34m\u001b[0m\u001b[0;34m\u001b[0m\u001b[0m\n\u001b[1;32m    283\u001b[0m                 \u001b[0mnum_samples\u001b[0m \u001b[0;34m=\u001b[0m \u001b[0mmin\u001b[0m\u001b[0;34m(\u001b[0m\u001b[0mnum_samples\u001b[0m\u001b[0;34m,\u001b[0m \u001b[0mnum_batches\u001b[0m\u001b[0;34m)\u001b[0m\u001b[0;34m\u001b[0m\u001b[0;34m\u001b[0m\u001b[0m\n\u001b[0;32m--> 284\u001b[0;31m             batches = [\n\u001b[0m\u001b[1;32m    285\u001b[0m                 \u001b[0mself\u001b[0m\u001b[0;34m.\u001b[0m\u001b[0m_standardize_batch\u001b[0m\u001b[0;34m(\u001b[0m\u001b[0mself\u001b[0m\u001b[0;34m.\u001b[0m\u001b[0mpy_dataset\u001b[0m\u001b[0;34m[\u001b[0m\u001b[0mi\u001b[0m\u001b[0;34m]\u001b[0m\u001b[0;34m)\u001b[0m\u001b[0;34m\u001b[0m\u001b[0;34m\u001b[0m\u001b[0m\n\u001b[1;32m    286\u001b[0m                 \u001b[0;32mfor\u001b[0m \u001b[0mi\u001b[0m \u001b[0;32min\u001b[0m \u001b[0mrange\u001b[0m\u001b[0;34m(\u001b[0m\u001b[0mnum_samples\u001b[0m\u001b[0;34m)\u001b[0m\u001b[0;34m\u001b[0m\u001b[0;34m\u001b[0m\u001b[0m\n",
            "\u001b[0;32m/usr/local/lib/python3.10/dist-packages/keras/src/trainers/data_adapters/py_dataset_adapter.py\u001b[0m in \u001b[0;36m<listcomp>\u001b[0;34m(.0)\u001b[0m\n\u001b[1;32m    283\u001b[0m                 \u001b[0mnum_samples\u001b[0m \u001b[0;34m=\u001b[0m \u001b[0mmin\u001b[0m\u001b[0;34m(\u001b[0m\u001b[0mnum_samples\u001b[0m\u001b[0;34m,\u001b[0m \u001b[0mnum_batches\u001b[0m\u001b[0;34m)\u001b[0m\u001b[0;34m\u001b[0m\u001b[0;34m\u001b[0m\u001b[0m\n\u001b[1;32m    284\u001b[0m             batches = [\n\u001b[0;32m--> 285\u001b[0;31m                 \u001b[0mself\u001b[0m\u001b[0;34m.\u001b[0m\u001b[0m_standardize_batch\u001b[0m\u001b[0;34m(\u001b[0m\u001b[0mself\u001b[0m\u001b[0;34m.\u001b[0m\u001b[0mpy_dataset\u001b[0m\u001b[0;34m[\u001b[0m\u001b[0mi\u001b[0m\u001b[0;34m]\u001b[0m\u001b[0;34m)\u001b[0m\u001b[0;34m\u001b[0m\u001b[0;34m\u001b[0m\u001b[0m\n\u001b[0m\u001b[1;32m    286\u001b[0m                 \u001b[0;32mfor\u001b[0m \u001b[0mi\u001b[0m \u001b[0;32min\u001b[0m \u001b[0mrange\u001b[0m\u001b[0;34m(\u001b[0m\u001b[0mnum_samples\u001b[0m\u001b[0;34m)\u001b[0m\u001b[0;34m\u001b[0m\u001b[0;34m\u001b[0m\u001b[0m\n\u001b[1;32m    287\u001b[0m             ]\n",
            "\u001b[0;32m/usr/local/lib/python3.10/dist-packages/keras/src/legacy/preprocessing/image.py\u001b[0m in \u001b[0;36m__getitem__\u001b[0;34m(self, idx)\u001b[0m\n\u001b[1;32m     66\u001b[0m             \u001b[0mself\u001b[0m\u001b[0;34m.\u001b[0m\u001b[0mbatch_size\u001b[0m \u001b[0;34m*\u001b[0m \u001b[0midx\u001b[0m \u001b[0;34m:\u001b[0m \u001b[0mself\u001b[0m\u001b[0;34m.\u001b[0m\u001b[0mbatch_size\u001b[0m \u001b[0;34m*\u001b[0m \u001b[0;34m(\u001b[0m\u001b[0midx\u001b[0m \u001b[0;34m+\u001b[0m \u001b[0;36m1\u001b[0m\u001b[0;34m)\u001b[0m\u001b[0;34m\u001b[0m\u001b[0;34m\u001b[0m\u001b[0m\n\u001b[1;32m     67\u001b[0m         ]\n\u001b[0;32m---> 68\u001b[0;31m         \u001b[0;32mreturn\u001b[0m \u001b[0mself\u001b[0m\u001b[0;34m.\u001b[0m\u001b[0m_get_batches_of_transformed_samples\u001b[0m\u001b[0;34m(\u001b[0m\u001b[0mindex_array\u001b[0m\u001b[0;34m)\u001b[0m\u001b[0;34m\u001b[0m\u001b[0;34m\u001b[0m\u001b[0m\n\u001b[0m\u001b[1;32m     69\u001b[0m \u001b[0;34m\u001b[0m\u001b[0m\n\u001b[1;32m     70\u001b[0m     \u001b[0;32mdef\u001b[0m \u001b[0m__len__\u001b[0m\u001b[0;34m(\u001b[0m\u001b[0mself\u001b[0m\u001b[0;34m)\u001b[0m\u001b[0;34m:\u001b[0m\u001b[0;34m\u001b[0m\u001b[0;34m\u001b[0m\u001b[0m\n",
            "\u001b[0;32m/usr/local/lib/python3.10/dist-packages/keras/src/legacy/preprocessing/image.py\u001b[0m in \u001b[0;36m_get_batches_of_transformed_samples\u001b[0;34m(self, index_array)\u001b[0m\n\u001b[1;32m    311\u001b[0m         \u001b[0mfilepaths\u001b[0m \u001b[0;34m=\u001b[0m \u001b[0mself\u001b[0m\u001b[0;34m.\u001b[0m\u001b[0mfilepaths\u001b[0m\u001b[0;34m\u001b[0m\u001b[0;34m\u001b[0m\u001b[0m\n\u001b[1;32m    312\u001b[0m         \u001b[0;32mfor\u001b[0m \u001b[0mi\u001b[0m\u001b[0;34m,\u001b[0m \u001b[0mj\u001b[0m \u001b[0;32min\u001b[0m \u001b[0menumerate\u001b[0m\u001b[0;34m(\u001b[0m\u001b[0mindex_array\u001b[0m\u001b[0;34m)\u001b[0m\u001b[0;34m:\u001b[0m\u001b[0;34m\u001b[0m\u001b[0;34m\u001b[0m\u001b[0m\n\u001b[0;32m--> 313\u001b[0;31m             img = image_utils.load_img(\n\u001b[0m\u001b[1;32m    314\u001b[0m                 \u001b[0mfilepaths\u001b[0m\u001b[0;34m[\u001b[0m\u001b[0mj\u001b[0m\u001b[0;34m]\u001b[0m\u001b[0;34m,\u001b[0m\u001b[0;34m\u001b[0m\u001b[0;34m\u001b[0m\u001b[0m\n\u001b[1;32m    315\u001b[0m                 \u001b[0mcolor_mode\u001b[0m\u001b[0;34m=\u001b[0m\u001b[0mself\u001b[0m\u001b[0;34m.\u001b[0m\u001b[0mcolor_mode\u001b[0m\u001b[0;34m,\u001b[0m\u001b[0;34m\u001b[0m\u001b[0;34m\u001b[0m\u001b[0m\n",
            "\u001b[0;32m/usr/local/lib/python3.10/dist-packages/keras/src/utils/image_utils.py\u001b[0m in \u001b[0;36mload_img\u001b[0;34m(path, color_mode, target_size, interpolation, keep_aspect_ratio)\u001b[0m\n\u001b[1;32m    234\u001b[0m             \u001b[0mpath\u001b[0m \u001b[0;34m=\u001b[0m \u001b[0mstr\u001b[0m\u001b[0;34m(\u001b[0m\u001b[0mpath\u001b[0m\u001b[0;34m.\u001b[0m\u001b[0mresolve\u001b[0m\u001b[0;34m(\u001b[0m\u001b[0;34m)\u001b[0m\u001b[0;34m)\u001b[0m\u001b[0;34m\u001b[0m\u001b[0;34m\u001b[0m\u001b[0m\n\u001b[1;32m    235\u001b[0m         \u001b[0;32mwith\u001b[0m \u001b[0mopen\u001b[0m\u001b[0;34m(\u001b[0m\u001b[0mpath\u001b[0m\u001b[0;34m,\u001b[0m \u001b[0;34m\"rb\"\u001b[0m\u001b[0;34m)\u001b[0m \u001b[0;32mas\u001b[0m \u001b[0mf\u001b[0m\u001b[0;34m:\u001b[0m\u001b[0;34m\u001b[0m\u001b[0;34m\u001b[0m\u001b[0m\n\u001b[0;32m--> 236\u001b[0;31m             \u001b[0mimg\u001b[0m \u001b[0;34m=\u001b[0m \u001b[0mpil_image\u001b[0m\u001b[0;34m.\u001b[0m\u001b[0mopen\u001b[0m\u001b[0;34m(\u001b[0m\u001b[0mio\u001b[0m\u001b[0;34m.\u001b[0m\u001b[0mBytesIO\u001b[0m\u001b[0;34m(\u001b[0m\u001b[0mf\u001b[0m\u001b[0;34m.\u001b[0m\u001b[0mread\u001b[0m\u001b[0;34m(\u001b[0m\u001b[0;34m)\u001b[0m\u001b[0;34m)\u001b[0m\u001b[0;34m)\u001b[0m\u001b[0;34m\u001b[0m\u001b[0;34m\u001b[0m\u001b[0m\n\u001b[0m\u001b[1;32m    237\u001b[0m     \u001b[0;32melse\u001b[0m\u001b[0;34m:\u001b[0m\u001b[0;34m\u001b[0m\u001b[0;34m\u001b[0m\u001b[0m\n\u001b[1;32m    238\u001b[0m         raise TypeError(\n",
            "\u001b[0;31mKeyboardInterrupt\u001b[0m: "
          ]
        }
      ]
    },
    {
      "cell_type": "code",
      "source": [
        "model_species_improved = load_model('/content/drive/MyDrive/CV - Animal Emotion Recognition/species_model_improved.h5')\n",
        "\n",
        "# Đánh giá hiệu năng nhận biết loài vật\n",
        "print(\"Evaluation for Animal Species Recognition Model Improved\")\n",
        "evaluate_model(model_species_improved, val_species_generator, class_labels=train_species_generator.class_indices.keys())"
      ],
      "metadata": {
        "colab": {
          "base_uri": "https://localhost:8080/",
          "height": 998
        },
        "id": "rX_HsQGCi7Lc",
        "outputId": "f5740dfd-ac52-42d3-a32e-5eabbb71e48b"
      },
      "execution_count": 8,
      "outputs": [
        {
          "output_type": "stream",
          "name": "stderr",
          "text": [
            "WARNING:absl:Compiled the loaded model, but the compiled metrics have yet to be built. `model.compile_metrics` will be empty until you train or evaluate the model.\n"
          ]
        },
        {
          "output_type": "stream",
          "name": "stdout",
          "text": [
            "Evaluation for Animal Species Recognition Model Improved\n"
          ]
        },
        {
          "output_type": "stream",
          "name": "stderr",
          "text": [
            "/usr/local/lib/python3.10/dist-packages/keras/src/trainers/data_adapters/py_dataset_adapter.py:121: UserWarning: Your `PyDataset` class should call `super().__init__(**kwargs)` in its constructor. `**kwargs` can include `workers`, `use_multiprocessing`, `max_queue_size`. Do not pass these arguments to `fit()`, as they will be ignored.\n",
            "  self._warn_if_super_not_called()\n"
          ]
        },
        {
          "output_type": "stream",
          "name": "stdout",
          "text": [
            "\u001b[1m29/29\u001b[0m \u001b[32m━━━━━━━━━━━━━━━━━━━━\u001b[0m\u001b[37m\u001b[0m \u001b[1m35s\u001b[0m 1s/step\n",
            "Classification Report:\n",
            "              precision    recall  f1-score   support\n",
            "\n",
            "         Cat       0.15      0.24      0.19       100\n",
            "         Dog       0.90      0.83      0.86       808\n",
            "\n",
            "    accuracy                           0.77       908\n",
            "   macro avg       0.52      0.54      0.52       908\n",
            "weighted avg       0.82      0.77      0.79       908\n",
            "\n"
          ]
        },
        {
          "output_type": "display_data",
          "data": {
            "text/plain": [
              "<Figure size 1000x800 with 2 Axes>"
            ],
            "image/png": "[encoded data removed]"
          },
          "metadata": {}
        }
      ]
    }
  ]
}